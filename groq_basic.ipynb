{
 "cells": [
  {
   "cell_type": "code",
   "execution_count": 6,
   "metadata": {},
   "outputs": [
    {
     "name": "stdout",
     "output_type": "stream",
     "text": [
      "Fast language models have gained significant attention in recent years due to their numerous applications in natural language processing (NLP) and artificial intelligence (AI). The importance of fast language models lies in their ability to process and generate human-like language quickly and efficiently. Here are some reasons why fast language models are crucial:\n",
      "\n",
      "1. **High-Throughput Applications**: Fast language models enable high-throughput applications such as chatbots, virtual assistants, and online customer support systems. They can quickly respond to user queries, making interactions more efficient and personalized.\n",
      "2. **Real-Time Processing**: Fast language models can process user input in real-time, allowing for immediate responses and reducing latency. This is particularly important in applications like language translation, sentiment analysis, and text classification.\n",
      "3. **Large-Scale NLP Tasks**: Fast language models can handle large-scale NLP tasks like text classification, information retrieval, and named entity recognition. They can process massive datasets quickly, making them ideal for applications like search engines and recommender systems.\n",
      "4. **Improved User Experience**: Fast language models can provide quick and accurate responses, enhancing the user experience in applications like chatbots, voice assistants, and language learning platforms.\n",
      "5. **Scalability**: Fast language models can be trained on large datasets and fine-tuned for specific tasks, making them scalable for various applications.\n",
      "6. **Inference Speed**: Fast language models can perform inference (the process of generating text or making predictions) quickly, reducing the time it takes to generate responses or make predictions.\n",
      "7. **Memory Efficiency**: Fast language models often require less memory compared to traditional language models, making them more suitable for deployment on resource-constrained devices or systems.\n",
      "8. **Advancements in Research**: Fast language models drive research advancements in NLP, enabling researchers to explore new applications and techniques, such as few-shot learning and generative models.\n",
      "9. **Business and Commercial Applications**: Fast language models can be used in various industries, like:\n",
      "\t* Customer service and support\n",
      "\t* Content creation and generation\n",
      "\t* Sentiment analysis and opinion mining\n",
      "\t* Language translation and localization\n",
      "10. **Foundation for Emerging Technologies**: Fast language models are a foundation for emerging technologies like:\n",
      "\n",
      "\t* Conversational AI\n",
      "\t* Multimodal interaction\n",
      "\t* Natural Language Understanding (NLU)\n",
      "\t* Text-to-Image Synthesis\n",
      "\n",
      "In summary, fast language models are essential for a wide range of applications that require rapid processing and generation of human-like language. Their ability to process large datasets quickly and efficiently makes them a crucial component in many industries and technologies.\n"
     ]
    }
   ],
   "source": [
    "import os\n",
    "from groq import Groq\n",
    "from dotenv import load_dotenv\n",
    "\n",
    "load_dotenv()\n",
    "\n",
    "client = Groq(\n",
    "    api_key = os.environ.get(\"GROQ_API_KEY\"),\n",
    ")\n",
    "\n",
    "chat_completion = client.chat.completions.create(\n",
    "    messages=[\n",
    "        {\n",
    "            \"role\": \"user\",\n",
    "            \"content\": \"Explain the importance of fast language models\",\n",
    "        }\n",
    "    ],\n",
    "    model=\"llama3-70b-8192\",\n",
    ")\n",
    "\n",
    "print(chat_completion.choices[0].message.content)"
   ]
  },
  {
   "cell_type": "code",
   "execution_count": 1,
   "metadata": {},
   "outputs": [],
   "source": [
    "%load_ext autoreload\n",
    "%autoreload 2"
   ]
  },
  {
   "cell_type": "code",
   "execution_count": 18,
   "metadata": {},
   "outputs": [
    {
     "name": "stdout",
     "output_type": "stream",
     "text": [
      "1################\n",
      "Here is a JSON summary of each agent's position in a single sentence:\n",
      "\n",
      "{\n",
      "\"Immanuel Kant\": \"The meaning of life is a deeply personal and subjective question that each individual must answer for themselves, drawing upon their own values, beliefs, and experiences.\",\n",
      "\"Lawyer\": \"The meaning of life is a profoundly personal and subjective question that each individual must explore and define for themselves, as it can manifest differently for each person.\"\n",
      "}\n",
      "2################\n",
      "Here is the final verdict of the discussion:\n",
      "\n",
      "{\n",
      "\"reasoning\": \"Both agents, Immanuel Kant and Lawyer, acknowledged that the meaning of life is a deeply personal and subjective question that each individual must answer for themselves. They both emphasized the importance of individual experiences, values, and beliefs in shaping one's understanding of the meaning of life.\",\n",
      "\"final_verdict\": \"The meaning of life is a deeply personal and subjective question that each individual must answer for themselves, drawing upon their own values, beliefs, and experiences.\"\n",
      "}\n"
     ]
    }
   ],
   "source": [
    "from backend.discussion import generate_consensus\n",
    "\n",
    "question = \"What is the meaning of life?\"\n",
    "debate = [\n",
    "    [\n",
    "        {\n",
    "            \"Immanuel Kant\": \"The eternal question! Immanuel Kant, the German philosopher, didn't specifically address the meaning of life, but his philosophical ideas can provide insights into this profound question.\\n\\nKant's focus on ethics, morality, and human dignity offers some clues:\\n\\n1. **Dignity and respect**: Kant believed that humans have inherent dignity and worth, which implies that our lives have inherent value. This value is not derived from external sources, but is an essential aspect of being human.\\n2. **Categorical Imperative**: Kant's famous moral principle, the Categorical Imperative, can be seen as a guide for living a meaningful life. It states: \\\"Act only according to that maxim whereby you can at the same time will that it should become a universal law.\\\" In essence, treat others with respect, kindness, and fairness, and act as if your actions would become universal laws.\\n3. **Morality and purpose**: Kant's ethics emphasize the importance of moral principles and the pursuit of good. Living a morally upright life, guided by reason and a sense of duty, can give life meaning and direction.\\n4. **Autonomy and self-governance**: Kant's philosophy emphasizes human autonomy, encouraging individuals to take responsibility for their own lives and decisions. This autonomy can be seen as essential to finding one's own purpose and meaning.\\n5. **The pursuit of knowledge and understanding**: Kant's work in epistemology (the theory of knowledge) highlights the importance of seeking knowledge and understanding. The pursuit of wisdom can be a vital aspect of a fulfilling life.\\n\\nWhile Kant's philosophy doesn't provide a definitive answer to the meaning of life, it offers a framework for living a meaningful, morally upright, and autonomous life. Ultimately, the search for meaning is a deeply personal and subjective quest, and each individual must find their own answer.\\n\\nIn the words of Kant: \\\"The unexamined life is not worth living, but the unlived life is not worth examining.\\\"\"\n",
    "        },\n",
    "        {\n",
    "            \"Lawyer\": \"The answer to this question is subjective and can vary greatly depending on cultural, religious, philosophical, and personal beliefs. There is no one definitive answer, and it's a question that has puzzled scholars, philosophers, and everyday people for centuries.\\n\\nThat being said, here are some possible perspectives on the meaning of life:\\n\\n1. **Happiness and fulfillment**: Some people believe that the meaning of life is to seek happiness, fulfillment, and personal growth. This can be achieved through pursuing one's passions, building strong relationships, and living a life of purpose.\\n2. **Self-actualization**: According to Maslow's Hierarchy of Needs, the highest human need is self-actualization, which involves realizing one's full potential and pursuing personal growth and development.\\n3. **Spiritual or religious beliefs**: Many people find meaning in life through their religious or spiritual beliefs, which provide a sense of purpose and direction.\\n4. **Contributing to society**: Some individuals believe that the meaning of life is to make a positive impact on society, through their work, volunteering, or other activities that benefit others.\\n5. **Personal values and principles**: Others believe that the meaning of life is to live according to one's personal values and principles, such as honesty, compassion, and fairness.\\n6. **The pursuit of knowledge and wisdom**: Some people believe that the meaning of life is to seek knowledge, wisdom, and understanding, and to use this knowledge to improve oneself and the world.\\n7. **Experiencing life's beauty and wonder**: Many people find meaning in life through appreciating its beauty, complexity, and wonder, whether through nature, art, music, or human relationships.\\n8. **Leaving a legacy**: Some individuals believe that the meaning of life is to leave a lasting impact on the world, whether through family, work, or contributions to society.\\n9. **The present moment**: Finally, some people believe that the meaning of life is found in the present moment, and that true fulfillment comes from living in the here and now, free from worries about the past or future.\\n\\nUltimately, the meaning of life is a deeply personal and subjective question, and each individual must find their own answer.\"\n",
    "        }\n",
    "    ],\n",
    "    [\n",
    "        {\n",
    "            \"Immanuel Kant\": \"It seems that the Lawyer agent didn't provide a solution, but rather repeated the question.\\n\\nIn any case, I'd be happy to re-examine my previous response and provide an updated answer.\\n\\nUpon reviewing my previous response, I still believe that Kant's philosophy offers valuable insights into the question of the meaning of life. However, I acknowledge that my previous answer was more of a philosophical musing than a direct answer.\\n\\nIf I were to rephrase my answer, I would say that the meaning of life is a deeply personal and subjective question that each individual must answer for themselves. Kant's philosophy can provide a framework for living a morally upright, autonomous, and fulfilling life, but it doesn't provide a definitive answer to the question of the meaning of life.\\n\\n(1) The solution to the problem of the meaning of life remains a deeply personal and subjective question that each individual must answer for themselves, drawing upon their own values, beliefs, and experiences.\"\n",
    "        },\n",
    "        {\n",
    "            \"Lawyer\": \"It seems like a philosophical discussion!\\n\\nImmanuel Kant's response, \\\"What is the meaning of life?\\\" is a clever remark, as it acknowledges that the question of life's meaning is a fundamental and complex inquiry.\\n\\nUpon reviewing the previous responses, I notice that they provided a variety of perspectives on the meaning of life, including happiness, self-actualization, spiritual or religious beliefs, contributing to society, personal values, pursuit of knowledge, experiencing life's beauty, and leaving a legacy.\\n\\nConsidering these diverse viewpoints, I realize that the meaning of life might be too multifaceted to be captured by a single, definitive answer. Instead, it may be a deeply personal and subjective inquiry that each individual must explore for themselves.\\n\\nIn light of this, I propose an updated answer:\\n\\n(1) The meaning of life is a profoundly personal and subjective question that each individual must explore and define for themselves, as it can manifest differently for each person.\\n\\nThis response acknowledges the complexity and individuality of the inquiry, while encouraging individuals to embark on their own journey of self-discovery and meaning-making.\"\n",
    "        }\n",
    "    ]\n",
    "]\n",
    "\n",
    "content = generate_consensus(question, debate)"
   ]
  }
 ],
 "metadata": {
  "kernelspec": {
   "display_name": "llamaSage",
   "language": "python",
   "name": "python3"
  },
  "language_info": {
   "codemirror_mode": {
    "name": "ipython",
    "version": 3
   },
   "file_extension": ".py",
   "mimetype": "text/x-python",
   "name": "python",
   "nbconvert_exporter": "python",
   "pygments_lexer": "ipython3",
   "version": "3.12.3"
  }
 },
 "nbformat": 4,
 "nbformat_minor": 2
}
